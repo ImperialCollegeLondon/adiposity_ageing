{
 "cells": [
  {
   "cell_type": "code",
   "execution_count": null,
   "id": "8c54b9e6-276a-4a50-9bb6-6c798f326053",
   "metadata": {},
   "outputs": [],
   "source": [
    "import pandas as pd\n",
    "import seaborn as sns\n",
    "import matplotlib.pyplot as plt\n",
    "from matplotlib import rcParams\n",
    "    \n",
    "# Set global font properties\n",
    "rcParams['font.family'] = 'Arial'\n",
    "rcParams['font.size'] = 6\n",
    "rcParams['pdf.fonttype'] = 42  # This ensures fonts are stored as text in PDFs, making them editable in Illustrator\n",
    "    \n",
    "# Replace 'your_data_path' with the actual path to your dataset file\n",
    "df = pd.read_csv('C:/your_data_path')\n",
    "df = df.dropna()\n",
    "    \n",
    "# Updated function to plot violin plots with custom colors for Sex\n",
    "def plot_violin(ax, df, phenotype):\n",
    "    sns.violinplot(x='Ethnicity', y=phenotype, hue='Sex', data=df, split=True, inner=\"quart\", \n",
    "                   palette={\"Male\": \"#00798c\", \"Female\": \"#404080\"}, ax=ax)\n",
    "    ax.set_title(f'{phenotype} Distribution by Ethnicity and Sex')\n",
    "    ax.set_xlabel('Ethnicity')\n",
    "    ax.set_ylabel(phenotype)\n",
    "    ax.tick_params(axis='both', which='major', labelsize=6)  # Adjust tick label size if necessary\n",
    "    ax.legend(title='Sex', loc='upper right', fontsize=6)\n",
    "    \n",
    "# Assuming your data has these phenotypes; adjust as necessary\n",
    "phenotypes = ['VAT', 'ASAT', 'TTFM', 'WBFM', 'TAAT', 'MFI']\n",
    "    \n",
    "# Create a grid of plots with 2 columns and 3 rows\n",
    "fig, axes = plt.subplots(nrows=3, ncols=2, figsize=(12, 16))\n",
    "    \n",
    "# Plot for each phenotype\n",
    " for i, phenotype in enumerate(phenotypes):\n",
    "    row = i // 2  # Calculate row index\n",
    "    col = i % 2   # Calculate column index\n",
    "    plot_violin(axes[row, col], df, phenotype)\n",
    "    \n",
    "plt.tight_layout()\n",
    "    \n",
    "# Save the combined violin plots as a PDF file\n",
    "plt.savefig('violin_plots.pdf', format='pdf')\n",
    "    \n",
    "print(\"Violin plots saved as 'violin_plots.pdf'\")"
   ]
  }
 ],
 "metadata": {
  "kernelspec": {
   "display_name": "Python 3 (ipykernel)",
   "language": "python",
   "name": "python3"
  },
  "language_info": {
   "codemirror_mode": {
    "name": "ipython",
    "version": 3
   },
   "file_extension": ".py",
   "mimetype": "text/x-python",
   "name": "python",
   "nbconvert_exporter": "python",
   "pygments_lexer": "ipython3",
   "version": "3.9.16"
  }
 },
 "nbformat": 4,
 "nbformat_minor": 5
}
